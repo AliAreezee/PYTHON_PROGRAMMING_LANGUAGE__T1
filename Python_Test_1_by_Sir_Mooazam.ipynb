{
  "nbformat": 4,
  "nbformat_minor": 0,
  "metadata": {
    "colab": {
      "provenance": []
    },
    "kernelspec": {
      "name": "python3",
      "display_name": "Python 3"
    },
    "language_info": {
      "name": "python"
    }
  },
  "cells": [
    {
      "cell_type": "code",
      "source": [
        "# Q1) Printing all odd numbers in a list.\n",
        "# Q2) Finding the sum of list elements.\n",
        "# Q3) Reversing a list in two ways.\n",
        "# Q4) Finding the top two maximum numbers in a list.\n",
        "# Q5) Finding the second highest number in an integer list.\n",
        "# Q6) Sorting characters in descending order.\n",
        "# Q7) Removing repeated characters from a string.\n",
        "# Q8) Checking if a given character is a vowel or consonant.\n",
        "# Q9) Calculating the factorial of a number.\n",
        "# Q10) Merging two lists.\n"
      ],
      "metadata": {
        "id": "7Q2FJozRPBsf"
      },
      "execution_count": null,
      "outputs": []
    },
    {
      "cell_type": "code",
      "source": [
        "print(\"\\n\\tQ_1\")\n",
        "\n",
        "my_list = [0, 1, 2, 3, 4, 5, 6, 7, 8, 9, 10]\n",
        "\n",
        "print(\"Here are the odd numbers of the list: \")\n",
        "for num in my_list:\n",
        "    if num % 2 != 0:\n",
        "        print(num)\n"
      ],
      "metadata": {
        "colab": {
          "base_uri": "https://localhost:8080/"
        },
        "id": "Tf__5M9y8Ohq",
        "outputId": "0a154cfb-faa2-4d42-d338-df638eec0188"
      },
      "execution_count": 100,
      "outputs": [
        {
          "output_type": "stream",
          "name": "stdout",
          "text": [
            "\n",
            "\tQ_1\n",
            "Here are the odd numbers of the list: \n",
            "1\n",
            "3\n",
            "5\n",
            "7\n",
            "9\n"
          ]
        }
      ]
    },
    {
      "cell_type": "code",
      "source": [
        "print(\"\\n\\tQ_2\")\n",
        "\n",
        "adding_numbers = [0, 1, 2, 3, 4, 5, 6, 7, 8, 9, 10]\n",
        "total = sum(adding_numbers)\n",
        "print(\"Here is the sum numbers of list: \", total)"
      ],
      "metadata": {
        "colab": {
          "base_uri": "https://localhost:8080/"
        },
        "id": "RBAJ_ic2xLIB",
        "outputId": "7bb812ee-ca10-4d2d-b092-26420b1bb522"
      },
      "execution_count": 97,
      "outputs": [
        {
          "output_type": "stream",
          "name": "stdout",
          "text": [
            "\n",
            "\tQ_2\n",
            "Here is the sum numbers of list:  55\n"
          ]
        }
      ]
    },
    {
      "cell_type": "code",
      "source": [
        "print(\"\\n\\tQ_3\")\n",
        "\n",
        "number_list = [0, 1, 2, 3, 4, 5, 6, 7, 8, 9, 10]\n",
        "number_list.reverse()\n",
        "print(\"Here are the numbers of list in reverse order\", number_list)"
      ],
      "metadata": {
        "colab": {
          "base_uri": "https://localhost:8080/"
        },
        "id": "l37Bz_wf4mfs",
        "outputId": "6b1592d9-8755-4aea-96ad-cddb8ed9ed52"
      },
      "execution_count": 96,
      "outputs": [
        {
          "output_type": "stream",
          "name": "stdout",
          "text": [
            "\n",
            "\tQ_3\n",
            "Here are the numbers of list in reverse order [10, 9, 8, 7, 6, 5, 4, 3, 2, 1, 0]\n"
          ]
        }
      ]
    },
    {
      "cell_type": "code",
      "source": [
        "print(\"\\n\\tQ_4\")\n",
        "\n",
        "my_list=[3,5,76,345,342,2,13,4365,6,432,761,788,11,5498]\n",
        "\n",
        "\n",
        "Maximum_Number_1 = max(my_list)\n",
        "my_list.remove(Maximum_Number_1)\n",
        "Maximum_Number_2 = max(my_list)\n",
        "\n",
        "print(\"Following are the two highest numbewr in the list: \",  Maximum_Number_1 ,\" and \",  Maximum_Number_2)\n"
      ],
      "metadata": {
        "colab": {
          "base_uri": "https://localhost:8080/"
        },
        "id": "iW60bn6A_5V3",
        "outputId": "1f1be702-26cd-4038-d22c-415e335c8609"
      },
      "execution_count": 90,
      "outputs": [
        {
          "output_type": "stream",
          "name": "stdout",
          "text": [
            "\n",
            "\tQ_4\n",
            "Following are the two highest numbewr in the list:  5498  and  4365\n"
          ]
        }
      ]
    },
    {
      "cell_type": "code",
      "source": [
        "print(\"\\n\\tQ_5\")\n",
        "\n",
        "my_list=[3,5,76,345,342,2,13,4365,6,432,761,788,11,5498]\n",
        "\n",
        "\n",
        "Maximum_Number_1 = max(my_list)\n",
        "my_list.remove(Maximum_Number_1)\n",
        "Maximum_Number_2 = max(my_list)\n",
        "\n",
        "print(\"Second highest number of the list is:\",  Maximum_Number_2)"
      ],
      "metadata": {
        "colab": {
          "base_uri": "https://localhost:8080/"
        },
        "id": "QP7YRqGSF3mV",
        "outputId": "f3adc872-22e4-4257-ed1b-32ab531d39e1"
      },
      "execution_count": 89,
      "outputs": [
        {
          "output_type": "stream",
          "name": "stdout",
          "text": [
            "\n",
            "\tQ_5\n",
            "Second highest number of the list is: 4365\n"
          ]
        }
      ]
    },
    {
      "cell_type": "code",
      "source": [
        "print(\"\\n\\tQ_6\")\n",
        "\n",
        "my_list = [0, 1, 5, 3, 4, 9, 2, 7, 8, 6, 10]\n",
        "\n",
        "print(\"Here are the numbers of list in descending order:\")\n",
        "my_list.sort()\n",
        "my_list.reverse()\n",
        "print(my_list)\n"
      ],
      "metadata": {
        "colab": {
          "base_uri": "https://localhost:8080/"
        },
        "id": "X_kzr9YM50K0",
        "outputId": "c6b61d10-75fc-437a-d04f-a2f050d2b85a"
      },
      "execution_count": 93,
      "outputs": [
        {
          "output_type": "stream",
          "name": "stdout",
          "text": [
            "\n",
            "\tQ_6\n",
            "Here are the numbers of list in descending order:\n",
            "[10, 9, 8, 7, 6, 5, 4, 3, 2, 1, 0]\n"
          ]
        }
      ]
    },
    {
      "cell_type": "code",
      "source": [
        "print(\"\\n\\tQ_7\")\n",
        "\n",
        "repeated_string = 'abccddeffghhijkk'\n",
        "unique_chars = ''\n",
        "\n",
        "for char in repeated_string:\n",
        "    if char not in unique_chars:\n",
        "        unique_chars += char\n",
        "\n",
        "print(\"String after removing repeated characters:\", unique_chars)\n",
        "\n"
      ],
      "metadata": {
        "colab": {
          "base_uri": "https://localhost:8080/"
        },
        "id": "-rpjb59bLiBi",
        "outputId": "76894bad-7e98-40e7-8e8e-18b6dce1da1e"
      },
      "execution_count": 109,
      "outputs": [
        {
          "output_type": "stream",
          "name": "stdout",
          "text": [
            "\n",
            "\tQ_7\n",
            "String after removing repeated characters: abcdefghijk\n"
          ]
        }
      ]
    },
    {
      "cell_type": "code",
      "source": [
        "print(\"\\n\\tQ_8\")\n",
        "alphabet = input(\"Enter Alphabet:\")\n",
        "vowels = [\"a\",\"e\",\"i\",\"o\",\"u\"]\n",
        "\n",
        "if alphabet in vowels:\n",
        "  print(\"This letter is Vowel:  \", alphabet)\n",
        "else:\n",
        "  print(\"This letter is a Consonant:  \", alphabet )\n",
        "\n"
      ],
      "metadata": {
        "colab": {
          "base_uri": "https://localhost:8080/"
        },
        "id": "LAWVV4lkvK8j",
        "outputId": "0ed8b4b2-232f-4203-c24b-e2d970767d81"
      },
      "execution_count": 102,
      "outputs": [
        {
          "output_type": "stream",
          "name": "stdout",
          "text": [
            "\n",
            "\tQ_8\n",
            "Enter Alphabet:u\n",
            "This letter is Vowel:   u\n"
          ]
        }
      ]
    },
    {
      "cell_type": "code",
      "source": [
        "print(\"\\n\\tQ_9\")\n",
        "\n",
        "num = int(input())\n",
        "factorial = 1\n",
        "\n",
        "if num < 0:\n",
        "    print(\"Factorial is not defined for negative numbers.\")\n",
        "elif num == 0:\n",
        "    print(\"The factorial of 0 is 1\")\n",
        "else:\n",
        "    for i in range(1, num + 1):\n",
        "        factorial *= i\n",
        "\n",
        "    print(\"The factorial of\", num, \"is\", factorial)\n"
      ],
      "metadata": {
        "colab": {
          "base_uri": "https://localhost:8080/"
        },
        "id": "L5aLQu62J7-S",
        "outputId": "9ad41b8c-18c2-42df-b6c6-6b9024490536"
      },
      "execution_count": 108,
      "outputs": [
        {
          "output_type": "stream",
          "name": "stdout",
          "text": [
            "\n",
            "\tQ_9\n",
            "0\n",
            "The factorial of 0 is 1\n"
          ]
        }
      ]
    },
    {
      "cell_type": "code",
      "execution_count": 104,
      "metadata": {
        "colab": {
          "base_uri": "https://localhost:8080/"
        },
        "id": "omwDG_hku_K3",
        "outputId": "f503a8e7-2f87-4523-9e3e-049d5d240411"
      },
      "outputs": [
        {
          "output_type": "stream",
          "name": "stdout",
          "text": [
            "\n",
            "\tQ_10\n",
            "[0, 1, 2, 3, 4] [5, 6, 7, 8, 9] \n",
            "Here are the numbers of list_1 and list_2 altogether : [0, 1, 2, 3, 4, 5, 6, 7, 8, 9]\n"
          ]
        }
      ],
      "source": [
        "print(\"\\n\\tQ_10\")\n",
        "\n",
        "list_1= [0,1,2,3,4]\n",
        "list_2= [5,6,7,8,9]\n",
        "\n",
        "merge_list= list_1 + list_2\n",
        "print(list_1, list_2, \"\\nHere are the numbers of list_1 and list_2 altogether :\", merge_list)"
      ]
    }
  ]
}